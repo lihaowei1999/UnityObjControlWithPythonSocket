{
 "cells": [
  {
   "cell_type": "code",
   "execution_count": 2,
   "id": "26b68850",
   "metadata": {},
   "outputs": [
    {
     "data": {
      "application/vnd.jupyter.widget-view+json": {
       "model_id": "ab98d344c4684340bb1b0cfbdef6fab4",
       "version_major": 2,
       "version_minor": 0
      },
      "text/plain": [
       "Button(description='Connect to Hololens', style=ButtonStyle(), tooltip='this is a button')"
      ]
     },
     "metadata": {},
     "output_type": "display_data"
    },
    {
     "name": "stdout",
     "output_type": "stream",
     "text": [
      "X_position(mm)"
     ]
    },
    {
     "data": {
      "application/vnd.jupyter.widget-view+json": {
       "model_id": "ad458beab29a4d8da4e5c48eb10b1154",
       "version_major": 2,
       "version_minor": 0
      },
      "text/plain": [
       "Text(value='')"
      ]
     },
     "metadata": {},
     "output_type": "display_data"
    },
    {
     "name": "stdout",
     "output_type": "stream",
     "text": [
      "Y_position(mm)"
     ]
    },
    {
     "data": {
      "application/vnd.jupyter.widget-view+json": {
       "model_id": "e2489ff564ee446ab5777aa9a7cc8928",
       "version_major": 2,
       "version_minor": 0
      },
      "text/plain": [
       "Text(value='')"
      ]
     },
     "metadata": {},
     "output_type": "display_data"
    },
    {
     "name": "stdout",
     "output_type": "stream",
     "text": [
      "Z_position(mm)"
     ]
    },
    {
     "data": {
      "application/vnd.jupyter.widget-view+json": {
       "model_id": "8696b39a994c498e9032e4a44f55eea6",
       "version_major": 2,
       "version_minor": 0
      },
      "text/plain": [
       "Text(value='')"
      ]
     },
     "metadata": {},
     "output_type": "display_data"
    },
    {
     "data": {
      "application/vnd.jupyter.widget-view+json": {
       "model_id": "9bd550ed307c454eb209560c16027a8c",
       "version_major": 2,
       "version_minor": 0
      },
      "text/plain": [
       "Button(description='Set position', style=ButtonStyle(), tooltip='this is a button')"
      ]
     },
     "metadata": {},
     "output_type": "display_data"
    }
   ],
   "source": [
    "import sys\n",
    "import os\n",
    "from numpy.core.defchararray import lower\n",
    "from numpy.core.numeric import NaN\n",
    "from My_classes import *\n",
    "import queue\n",
    "import copy\n",
    "from scipy.io import savemat\n",
    "from AHATNDITracker import *\n",
    "from FunctionFactory import *\n",
    "from XMLDataLoader import *\n",
    "import ipywidgets as wg\n",
    "from ipywidgets import Layout\n",
    "HololensDeviceFile=\"HololensDevice.xml\"\n",
    "ModelDefinitionFile=\"ModelSetup.xml\"\n",
    "\n",
    "Hololens=LoadDeviceData(HololensDeviceFile)[3][0]\n",
    "Target=LoadTrackObjectData(ModelDefinitionFile)\n",
    "HololensConnectbtn = wg.Button(description = \"Connect to Hololens\", tooltip = 'this is a button')\n",
    "def HololensConnectbtn_click():\n",
    "    Hololens.ConnectSocketChannel()\n",
    "    print('Hololens connected')\n",
    "\n",
    "HololensConnectbtn.on_click(HololensConnectbtn_click)\n",
    "display(HololensConnectbtn)\n",
    "x_position=wg.Text()\n",
    "print(\"X_position(mm)\",end=\"\")\n",
    "display(x_position)\n",
    "y_position=wg.Text()\n",
    "print(\"Y_position(mm)\",end=\"\")\n",
    "display(y_position)\n",
    "z_position=wg.Text()\n",
    "print(\"Z_position(mm)\",end=\"\")\n",
    "display(z_position)\n",
    "HololensControlbtn = wg.Button(description = \"Set position\", tooltip = 'this is a button')\n",
    "def HololensControlbtn_click():\n",
    "    # Hololens.ConnectSocketChannel()\n",
    "    position=[float(x_position.value),float(y_position.value),float(z_position.value)]\n",
    "    TransformMatrix=np.diag([1,1,1,1])\n",
    "    TransformMatrix[0,3]=position[0]\n",
    "    TransformMatrix[1,3]=position[1]\n",
    "    TransformMatrix[2,3]=position[2]\n",
    "    Hololens.SetPosition(0,TransformMatrix)\n",
    "    \n",
    "HololensControlbtn.on_click(HololensControlbtn_click)\n",
    "display(HololensControlbtn)"
   ]
  },
  {
   "cell_type": "code",
   "execution_count": null,
   "id": "0988116a",
   "metadata": {},
   "outputs": [],
   "source": []
  }
 ],
 "metadata": {
  "kernelspec": {
   "display_name": "Python 3 (ipykernel)",
   "language": "python",
   "name": "python3"
  },
  "language_info": {
   "codemirror_mode": {
    "name": "ipython",
    "version": 3
   },
   "file_extension": ".py",
   "mimetype": "text/x-python",
   "name": "python",
   "nbconvert_exporter": "python",
   "pygments_lexer": "ipython3",
   "version": "3.8.10"
  }
 },
 "nbformat": 4,
 "nbformat_minor": 5
}
